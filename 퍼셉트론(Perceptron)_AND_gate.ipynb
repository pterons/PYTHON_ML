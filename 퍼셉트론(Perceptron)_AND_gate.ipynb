{
  "nbformat": 4,
  "nbformat_minor": 0,
  "metadata": {
    "colab": {
      "name": "퍼셉트론(Perceptron)_AND_gate.ipynb",
      "provenance": [],
      "collapsed_sections": [],
      "authorship_tag": "ABX9TyPHOUTOmGjCbVWrrQXFxx5i",
      "include_colab_link": true
    },
    "kernelspec": {
      "name": "python3",
      "display_name": "Python 3"
    },
    "language_info": {
      "name": "python"
    }
  },
  "cells": [
    {
      "cell_type": "markdown",
      "metadata": {
        "id": "view-in-github",
        "colab_type": "text"
      },
      "source": [
        "<a href=\"https://colab.research.google.com/github/2pterons/PYTHON_ML/blob/master/%ED%8D%BC%EC%85%89%ED%8A%B8%EB%A1%A0(Perceptron)_AND_gate.ipynb\" target=\"_parent\"><img src=\"https://colab.research.google.com/assets/colab-badge.svg\" alt=\"Open In Colab\"/></a>"
      ]
    },
    {
      "cell_type": "code",
      "metadata": {
        "id": "9Isk9lFRyihj"
      },
      "source": [
        "import numpy as np\n",
        "\n",
        "# 기본적인 AND gate\n",
        "def AND_basic(x1,x2):\n",
        "  w1,w2,theta = 0.5, 0.5, 0.7\n",
        "  tmp = x1*w1 + x2*w2\n",
        "  if tmp <= theta:\n",
        "    return 0\n",
        "  elif tmp > theta:\n",
        "    return 1"
      ],
      "execution_count": null,
      "outputs": []
    },
    {
      "cell_type": "code",
      "metadata": {
        "colab": {
          "base_uri": "https://localhost:8080/"
        },
        "id": "d0zMRrC60YOz",
        "outputId": "74895cda-ea70-4ce0-834c-e515ee0a8267"
      },
      "source": [
        "inputs = [(0,0), (1,0), (0,1), (1,1)]\n",
        "\n",
        "for x1,x2 in inputs:\n",
        "  y = AND_basic(x1, x2)\n",
        "  print(\"({x1},{x2})->{y}\".format(x1=x1, x2=x2, y=y))"
      ],
      "execution_count": null,
      "outputs": [
        {
          "output_type": "stream",
          "text": [
            "(0,0)->0\n",
            "(1,0)->0\n",
            "(0,1)->0\n",
            "(1,1)->1\n"
          ],
          "name": "stdout"
        }
      ]
    },
    {
      "cell_type": "code",
      "metadata": {
        "id": "kbKmtxbG1IWE"
      },
      "source": [
        "# 가중치와 편향 도입\n",
        "# 위 식에서 세타를 -b로 치환하면 하나의 식으로 표현이 가능하고\n",
        "# 위의 식에서 b를 편향(bias)이라 한다.\n",
        "# 편향이라는 용어는 '한쪽으로 치우쳐 균형을 깬다'라는 의미를 담고 있다. 실제로 위의 식에서 \n",
        "# 두 입력(x1,x2)이 모두 0이어도 결과로 (0이 아닌) 편향 값을 출력한다."
      ],
      "execution_count": null,
      "outputs": []
    },
    {
      "cell_type": "code",
      "metadata": {
        "id": "aVWmIghL1jfr"
      },
      "source": [
        "# 가중치와 편향 구현하기 -가중치와 편향을 도입한 AND gate\n",
        "\n",
        "|inputs = [(0, 0), (1, 0), (0, 1), (1, 1)]\n",
        "for x1, x2 in inputs:\n",
        "  print(\"x1:\", x1, \"x2:\", x2)\n",
        "\n",
        "def AND(x1, x2):\n",
        "  x = np.array([x1,x2])\n",
        "  w = np.array([0.5,0.5])\n",
        "  b = -0.7\n",
        "  tmp = np.sum(w*x) + b\n",
        "  if tmp <= 0:\n",
        "    return 0\n",
        "  else:\n",
        "    return 1"
      ],
      "execution_count": null,
      "outputs": []
    },
    {
      "cell_type": "code",
      "metadata": {
        "colab": {
          "base_uri": "https://localhost:8080/"
        },
        "id": "2MpGHuKRzhPM",
        "outputId": "885b5d32-8cf3-4707-b923-a677bfd5a15e"
      },
      "source": [
        "inputs = [(0,0), (1,0), (0,1), (1,1)]\n",
        "\n",
        "for x1, x2 in inputs:\n",
        "  y = AND(x1, x2)\n",
        "  print('({x1},{x2}) -> {y}'.format(x1=x1, x2=x2, y=y))"
      ],
      "execution_count": null,
      "outputs": [
        {
          "output_type": "stream",
          "text": [
            "(0,0) -> 0\n",
            "(1,0) -> 0\n",
            "(0,1) -> 0\n",
            "(1,1) -> 1\n"
          ],
          "name": "stdout"
        }
      ]
    },
    {
      "cell_type": "code",
      "metadata": {
        "id": "msrN5U3jymUV"
      },
      "source": [
        "# NAND 게이트와 OR 게이트\n",
        "# NAND\n",
        "def NAND(x1, x2):\n",
        "   x = np.array([x1, x2])\n",
        "   w = np.array([-0.5, -0.5])\n",
        "   b = 0.7\n",
        "   tmp = np.sum(w*x) + b\n",
        "   if tmp <= 0:\n",
        "       return 0\n",
        "   else:\n",
        "       return 1\n",
        "​\n",
        "# OR\n",
        "def OR(x1, x2):\n",
        "   x = np.array([x1, x2])\n",
        "   w = np.array([0.5, 0.5])\n",
        "   b = -0.2\n",
        "   tmp = np.sum(w*x) + b\n",
        "   if tmp <= 0:\n",
        "       return 0\n",
        "   else:\n",
        "       return 1"
      ],
      "execution_count": null,
      "outputs": []
    },
    {
      "cell_type": "code",
      "metadata": {
        "id": "D-BsJLZ22A76"
      },
      "source": [
        "inputs = [(0, 0), (1, 0), (0, 1), (1, 1)]\n",
        "​\n",
        "print('NAND :')\n",
        "for x1, x2 in inputs:\n",
        "   y = NAND(x1, x2)\n",
        "   print('({x1}, {x2}) -> {y}'.format(x1=x1, x2=x2, y=y))\n",
        "   \n",
        "print('OR :')\n",
        "for x1, x2 in inputs:\n",
        "   y = OR(x1, x2)\n",
        "   print('({x1}, {x2}) -> {y}'.format(x1=x1, x2=x2, y=y))"
      ],
      "execution_count": null,
      "outputs": []
    },
    {
      "cell_type": "code",
      "metadata": {
        "id": "Zl7znQEB15pv"
      },
      "source": [
        "\n",
        "'''\n",
        "NAND :\n",
        "(0, 0) -> 1\n",
        "(1, 0) -> 1\n",
        "(0, 1) -> 1\n",
        "(1, 1) -> 0\n",
        "OR :\n",
        "(0, 0) -> 0\n",
        "(1, 0) -> 1\n",
        "(0, 1) -> 1\n",
        "(1, 1) -> 1\n",
        "\n",
        "\n",
        "출처: https://excelsior-cjh.tistory.com/169 [EXCELSIOR]\n",
        "'''"
      ],
      "execution_count": null,
      "outputs": []
    }
  ]
}